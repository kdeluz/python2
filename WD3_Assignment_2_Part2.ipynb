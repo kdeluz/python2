{
 "cells": [
  {
   "cell_type": "markdown",
   "metadata": {},
   "source": [
    "# Assignment 2 Part 2\n",
    "### By: Kyle Jordan Deluz\n",
    "This assignment showcases usage of Pandas to display and manipulate data, as well as doing basic CRUD using SQL statements."
   ]
  },
  {
   "cell_type": "code",
   "execution_count": 33,
   "metadata": {},
   "outputs": [],
   "source": [
    "# This imports the required libraries that will be used within this assignment.\n",
    "import sqlite3\n",
    "import pandas as pd\n",
    "import uuid"
   ]
  },
  {
   "cell_type": "code",
   "execution_count": 34,
   "metadata": {},
   "outputs": [],
   "source": [
    "# Generate a random database name using the UUID object\n",
    "# Many types of UUID, but UUID4 will be the object that just sets a random set of characters.\n",
    "# 1 would be based on hostID and time and 3 is MD5 hash of namespace UUID and a name\n",
    "db_name = f'{uuid.uuid4().hex}.db'"
   ]
  },
  {
   "cell_type": "code",
   "execution_count": 35,
   "metadata": {},
   "outputs": [],
   "source": [
    "# This then connects to the SQLite database\n",
    "# This uses sqlite3 which is a module to work with SQLite in a Python environment, then using connect() connects it to the database name, which was referened above, based on the random name of the database.\n",
    "# Finally, this creates a cursor object, which is a method of the conn object. The cursor is a handle that would interact with the database and execute SQL commands.\n",
    "conn = sqlite3.connect(db_name)\n",
    "cursor = conn.cursor()"
   ]
  },
  {
   "cell_type": "code",
   "execution_count": 36,
   "metadata": {},
   "outputs": [
    {
     "data": {
      "text/plain": [
       "<sqlite3.Cursor at 0x7f01d52626c0>"
      ]
     },
     "execution_count": 36,
     "metadata": {},
     "output_type": "execute_result"
    }
   ],
   "source": [
    "# Creates three tables using simple SQL statements.\n",
    "# These tables then also contain 3 different rows that relate to that table, I am using an MMO that I play called Final Fantasy XIV, and in the game, they have character names, jobs, and job levels.\n",
    "# The Retainers table includes a foreign key, which connects to the 2 other tables, in order to reference them when fetching data, or storing it.\n",
    "cursor.execute('''\n",
    "CREATE TABLE IF NOT EXISTS Players (\n",
    "    PlayerID INTEGER PRIMARY KEY,\n",
    "    PlayerName TEXT,\n",
    "    Level INTEGER\n",
    ")\n",
    "''')\n",
    "\n",
    "cursor.execute('''\n",
    "CREATE TABLE IF NOT EXISTS Jobs (\n",
    "    JobID INTEGER PRIMARY KEY,\n",
    "    JobName TEXT,\n",
    "    Role TEXT\n",
    ")\n",
    "''')\n",
    "\n",
    "cursor.execute('''\n",
    "CREATE TABLE IF NOT EXISTS Retainers (\n",
    "    RetainerID INTEGER PRIMARY KEY,\n",
    "    PlayerID INTEGER,\n",
    "    RetainerName TEXT,\n",
    "    JobID INTEGER,\n",
    "    FOREIGN KEY(PlayerID) REFERENCES Players(PlayerID),\n",
    "    FOREIGN KEY(JobID) REFERENCES Jobs(JobID)\n",
    ")\n",
    "''')"
   ]
  },
  {
   "cell_type": "code",
   "execution_count": 37,
   "metadata": {},
   "outputs": [
    {
     "data": {
      "text/plain": [
       "<sqlite3.Cursor at 0x7f01d52626c0>"
      ]
     },
     "execution_count": 37,
     "metadata": {},
     "output_type": "execute_result"
    }
   ],
   "source": [
    "# This then inserts rows of data for each of the table, and includes the format of the ID, Name, Level/Job.\n",
    "# For the retainers, since it's a table that contains foreign keys, it will connect which ID/Player it will be tied to, then add their information afterwards.\n",
    "# It will output a Cursor at line, indicating that the cursor object is ready to interact with the database.\n",
    "players_insert = [\n",
    "    (1, 'Warrior of Light', 100), # WoL is Level 100\n",
    "    (2, 'Thancred Waters', 90), # Thancred is Level 90\n",
    "    (3, 'Alphinaud Leveilleur', 75) # Alphinaud is at level 75\n",
    "]\n",
    "\n",
    "jobs_insert = [\n",
    "    (1, 'Miner', 'Gathering'), # The first job will be a miner, which is attached tothe Gathering category\n",
    "    (2, 'Botanist', 'Gathering'), # Second is Botanist\n",
    "    (3, 'Fisher', 'Gathering') # Third is Fisher\n",
    "]\n",
    "\n",
    "retainers_insert = [\n",
    "    (1, 1, 'Tifa Lockhart', 1),  # WoL's retainer Tifa is a Miner\n",
    "    (2, 2, 'Aerith Gainsborough', 2),   # Thancred's retainer Aerith is a Botanist\n",
    "    (3, 3, 'Barret Wallace', 3)   # Alphinaud's retainer Barret is a Fisher\n",
    "]\n",
    "\n",
    "# Using executemany() is efficient when performing multiple executions of statements to the database.\n",
    "# Handles bulk inserts or updates efficiently\n",
    "cursor.executemany('INSERT INTO Players VALUES (?, ?, ?)', players_insert)\n",
    "cursor.executemany('INSERT INTO Jobs VALUES (?, ?, ?)', jobs_insert)\n",
    "cursor.executemany('INSERT INTO Retainers VALUES (?, ?, ?, ?)', retainers_insert)"
   ]
  },
  {
   "cell_type": "code",
   "execution_count": 38,
   "metadata": {},
   "outputs": [],
   "source": [
    "# Commit the changes to the database and saves it.\n",
    "conn.commit()"
   ]
  },
  {
   "cell_type": "code",
   "execution_count": 39,
   "metadata": {},
   "outputs": [
    {
     "name": "stdout",
     "output_type": "stream",
     "text": [
      "Players Table:\n",
      "   PlayerID            PlayerName  Level\n",
      "0         1      Warrior of Light    100\n",
      "1         2          Izumi Adachi     90\n",
      "2         3  Alphinaud Leveilleur     75\n",
      "\n",
      "Jobs Table:\n",
      "   JobID   JobName       Role\n",
      "0      1     Miner  Gathering\n",
      "1      2  Botanist  Gathering\n",
      "2      3    Fisher  Gathering\n",
      "\n",
      "Retainers Table:\n",
      "   RetainerID  PlayerID         RetainerName  JobID\n",
      "0           1         1        Tifa Lockhart      1\n",
      "1           2         2  Aerith Gainsborough      2\n",
      "2           3         3       Barret Wallace      3\n"
     ]
    }
   ],
   "source": [
    "# This outputs everything about the table, by using the SELECT * condition in the SQL statement\n",
    "# This will then print out the selected table within the database.\n",
    "print(\"Players Table:\")\n",
    "players_df = pd.read_sql_query(\"SELECT * FROM Players\", conn)\n",
    "print(players_df)\n",
    "\n",
    "print(\"\\nJobs Table:\")\n",
    "jobs_df = pd.read_sql_query(\"SELECT * FROM Jobs\", conn)\n",
    "print(jobs_df)\n",
    "\n",
    "print(\"\\nRetainers Table:\") \n",
    "retainers_df = pd.read_sql_query(\"SELECT * FROM Retainers\", conn)\n",
    "print(retainers_df)"
   ]
  },
  {
   "cell_type": "code",
   "execution_count": 40,
   "metadata": {},
   "outputs": [],
   "source": [
    "# This selects the table that needs to be updated, by using the cursor execute, it points to the Players table, and does the changes within the line\n",
    "# Here, we set WoL's level to 95, instead of their given 100.\n",
    "# Then we commit to the database.\n",
    "cursor.execute('UPDATE Players SET Level = 95 WHERE PlayerID = 1')\n",
    "conn.commit()"
   ]
  },
  {
   "cell_type": "code",
   "execution_count": 41,
   "metadata": {},
   "outputs": [
    {
     "name": "stdout",
     "output_type": "stream",
     "text": [
      "\n",
      "Updated Player Data (PlayerID = 1):\n",
      "   PlayerID        PlayerName  Level\n",
      "0         1  Warrior of Light     95\n"
     ]
    }
   ],
   "source": [
    "# After, we select the changed table and output the data within that table to the space below in Jupyter..\n",
    "# This uses the Pandas module of read_sql_query which basically runs an SQL query, and saves it into the updated_player_df variable, which then prints it out.\n",
    "print(\"\\nUpdated Player Data (PlayerID = 1):\")\n",
    "updated_player_df = pd.read_sql_query(\"SELECT * FROM Players WHERE PlayerID = 1\", conn)\n",
    "print(updated_player_df)"
   ]
  },
  {
   "cell_type": "code",
   "execution_count": 42,
   "metadata": {},
   "outputs": [],
   "source": [
    "# Deletes one row of data from the database that has the PlayerID of 2\n",
    "# Same as before, it points to the table using the cursor, and executes the SQL statement line.\n",
    "cursor.execute('DELETE FROM Players WHERE PlayerID = 2')\n",
    "conn.commit()"
   ]
  },
  {
   "cell_type": "code",
   "execution_count": 43,
   "metadata": {},
   "outputs": [
    {
     "name": "stdout",
     "output_type": "stream",
     "text": [
      "\n",
      "Players Table after Deletion:\n",
      "   PlayerID            PlayerName  Level\n",
      "0         1      Warrior of Light     95\n",
      "1         3  Alphinaud Leveilleur     75\n"
     ]
    }
   ],
   "source": [
    "# Output the entire table that the data was deleted from to the space below\n",
    "print(\"\\nPlayers Table after Deletion:\")\n",
    "players_df_after_deletion = pd.read_sql_query(\"SELECT * FROM Players\", conn)\n",
    "print(players_df_after_deletion)"
   ]
  },
  {
   "cell_type": "code",
   "execution_count": 44,
   "metadata": {},
   "outputs": [],
   "source": [
    "# Close the connection to the database\n",
    "conn.close()"
   ]
  }
 ],
 "metadata": {
  "kernelspec": {
   "display_name": "Python 3",
   "language": "python",
   "name": "python3"
  },
  "language_info": {
   "codemirror_mode": {
    "name": "ipython",
    "version": 3
   },
   "file_extension": ".py",
   "mimetype": "text/x-python",
   "name": "python",
   "nbconvert_exporter": "python",
   "pygments_lexer": "ipython3",
   "version": "3.10.12"
  }
 },
 "nbformat": 4,
 "nbformat_minor": 2
}
